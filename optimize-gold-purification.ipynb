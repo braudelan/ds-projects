{
 "cells": [
  {
   "cell_type": "markdown",
   "id": "a1f7e80a",
   "metadata": {},
   "source": [
    "# Project description\n",
    "The goal of this project was to help optimize the process of gold purification from gold ore. We were provided with past data on various purification process parameters (e.g. input concentrations, floatbank parameters, etc.) as well as the target features (gold recovery rate). Our task was to build a model that will predict gold recovery rate given a set of purification process parameters. This model will help fine tune purification parameters to achieve maximum recovery."
   ]
  },
  {
   "cell_type": "markdown",
   "id": "4d2d9355",
   "metadata": {
    "tags": []
   },
   "source": [
    "# data description\n",
    "\n",
    "+ The data is stored in three files:\n",
    "  + gold_recovery_train.csv — training dataset \n",
    "  + gold_recovery_test.csv — test dataset \n",
    "  + gold_recovery_full.csv — source dataset \n",
    "  \n",
    "+ Data is indexed with the date and time of acquisition (date feature). Parameters that are next to each other in terms of time are often similar.\n",
    "+ Some parameters are not available because they were measured and/or calculated much later. That's why, some of the features that are present in the training set may be absent from the test set. The test set also doesn't contain targets.\n",
    "+ The source dataset contains the training and test sets with all the features.\n",
    "  We have the raw data that was only downloaded from the warehouse. "
   ]
  },
  {
   "cell_type": "markdown",
   "id": "65893ac9",
   "metadata": {},
   "source": [
    "# Imports"
   ]
  },
  {
   "cell_type": "code",
   "execution_count": 1,
   "id": "3fa6402b",
   "metadata": {},
   "outputs": [],
   "source": [
    "from IPython.display import display\n",
    "\n",
    "# general purpose libraries\n",
    "import numpy as np\n",
    "import pandas as pd\n",
    "from matplotlib import pyplot as plt\n",
    "from matplotlib import ticker\n",
    "from matplotlib.cm import get_cmap\n",
    "import seaborn as sns\n",
    "from num2words import num2words\n",
    "\n",
    "# pre-processing\n",
    "from sklearn.preprocessing import StandardScaler\n",
    "\n",
    "# model selection\n",
    "from sklearn.model_selection import train_test_split\n",
    "                                                                                                                                                                                                                                                                                                                                                                                                                                                                                                                                                                                                                                                                                                                                                                                                                                                                                                                                                                                    \n",
    "# modelling\n",
    "from sklearn.ensemble import RandomForestRegressor\n",
    "from sklearn.linear_model import LinearRegression, Ridge, Lasso, ElasticNet \n",
    "from sklearn.tree import DecisionTreeRegressor\n",
    "\n",
    "# model evaluation\n",
    "from sklearn.model_selection import cross_val_score, GridSearchCV\n",
    "from sklearn.metrics import make_scorer\n",
    "from sklearn.dummy import DummyRegressor\n"
   ]
  },
  {
   "cell_type": "markdown",
   "id": "7aa55650",
   "metadata": {},
   "source": [
    "# Plotting setup"
   ]
  },
  {
   "cell_type": "code",
   "execution_count": 2,
   "id": "227cf0dd-5447-439e-8576-da34eea1b8ce",
   "metadata": {},
   "outputs": [],
   "source": [
    "# qualitative color map\n",
    "qualitative_cm = 'tab20c'\n",
    "\n",
    "# pyplot style\n",
    "plt.style.use('ggplot')\n",
    "\n",
    "\n",
    "\n",
    "# font\n",
    "font_style = {\n",
    "    'family' : 'monospace',\n",
    "    'weight' : 'normal',\n",
    "    'size'   : 12\n",
    "}\n",
    "plt.rc('font', **font_style)\n",
    "\n",
    "# axes \n",
    "axes_style = {\n",
    "    'titlesize': 15,\n",
    "    'labelpad': 6.0,\n",
    "    'labelsize': 13.0\n",
    "}\n",
    "plt.rc('axes', **axes_style)\n",
    "\n",
    "# figure\n",
    "figure_style = {\n",
    "    'figsize': (10, 6)\n",
    "}\n",
    "plt.rc('figure', **figure_style)"
   ]
  },
  {
   "cell_type": "markdown",
   "id": "4d6947d5",
   "metadata": {},
   "source": [
    "# Load the data"
   ]
  },
  {
   "cell_type": "code",
   "execution_count": 3,
   "id": "4e1eb7c7",
   "metadata": {},
   "outputs": [],
   "source": [
    "recovery_train = pd.read_csv('./datasets/gold_recovery_train.csv')\n",
    "recovery_test = pd.read_csv('./datasets/gold_recovery_test.csv')    \n",
    "recovery_full = pd.read_csv('./datasets/gold_recovery_full.csv')\n"
   ]
  },
  {
   "cell_type": "markdown",
   "id": "2ce6ccd8",
   "metadata": {},
   "source": [
    "# Constants"
   ]
  },
  {
   "cell_type": "code",
   "execution_count": 4,
   "id": "cb86e2a2",
   "metadata": {},
   "outputs": [],
   "source": [
    "DATASETS = [\n",
    "    recovery_train,\n",
    "    recovery_test,\n",
    "    recovery_full\n",
    "]\n",
    "\n",
    "DATASETS_LABELS = [\n",
    "    'Train',\n",
    "    'Test',\n",
    "    'Full'\n",
    "]\n",
    "\n",
    "TARGETS = [\n",
    "    'rougher.output.recovery',\n",
    "    'final.output.recovery'\n",
    "]\n",
    "\n"
   ]
  },
  {
   "cell_type": "markdown",
   "id": "714a157f",
   "metadata": {},
   "source": [
    "# Initial overview"
   ]
  },
  {
   "cell_type": "markdown",
   "id": "b81dbcdf",
   "metadata": {},
   "source": [
    "## Shape"
   ]
  },
  {
   "cell_type": "code",
   "execution_count": 5,
   "id": "5748403a",
   "metadata": {},
   "outputs": [
    {
     "name": "stdout",
     "output_type": "stream",
     "text": [
      "Train set\n",
      "-------------\n",
      "Observations: 16860\n",
      "Features: 87\n",
      "\n",
      "\n",
      "Test set\n",
      "-------------\n",
      "Observations: 5856\n",
      "Features: 53\n",
      "\n",
      "\n",
      "Full set\n",
      "-------------\n",
      "Observations: 22716\n",
      "Features: 87\n",
      "\n",
      "\n"
     ]
    }
   ],
   "source": [
    "for label, dataset in zip(DATASETS_LABELS, DATASETS):\n",
    "    print(\n",
    "        f\"{label} set\\n\"\n",
    "        f\"-------------\"\n",
    "    )\n",
    "    \n",
    "    print(\n",
    "        f\"Observations: {dataset.shape[0]}\\n\"\n",
    "        f\"Features: {dataset.shape[1]}\\n\"\n",
    "#         f\"Data types:\\n{dataset.dtypes}\\n\"\n",
    "    )\n",
    "    print()"
   ]
  },
  {
   "cell_type": "markdown",
   "id": "b9ae7c6f",
   "metadata": {},
   "source": [
    "## Info"
   ]
  },
  {
   "cell_type": "code",
   "execution_count": 6,
   "id": "ba1a11fd",
   "metadata": {},
   "outputs": [
    {
     "name": "stdout",
     "output_type": "stream",
     "text": [
      "<class 'pandas.core.frame.DataFrame'>\n",
      "RangeIndex: 16860 entries, 0 to 16859\n",
      "Data columns (total 87 columns):\n",
      " #   Column                                              Non-Null Count  Dtype  \n",
      "---  ------                                              --------------  -----  \n",
      " 0   date                                                16860 non-null  object \n",
      " 1   final.output.concentrate_ag                         16788 non-null  float64\n",
      " 2   final.output.concentrate_pb                         16788 non-null  float64\n",
      " 3   final.output.concentrate_sol                        16490 non-null  float64\n",
      " 4   final.output.concentrate_au                         16789 non-null  float64\n",
      " 5   final.output.recovery                               15339 non-null  float64\n",
      " 6   final.output.tail_ag                                16794 non-null  float64\n",
      " 7   final.output.tail_pb                                16677 non-null  float64\n",
      " 8   final.output.tail_sol                               16715 non-null  float64\n",
      " 9   final.output.tail_au                                16794 non-null  float64\n",
      " 10  primary_cleaner.input.sulfate                       15553 non-null  float64\n",
      " 11  primary_cleaner.input.depressant                    15598 non-null  float64\n",
      " 12  primary_cleaner.input.feed_size                     16860 non-null  float64\n",
      " 13  primary_cleaner.input.xanthate                      15875 non-null  float64\n",
      " 14  primary_cleaner.output.concentrate_ag               16778 non-null  float64\n",
      " 15  primary_cleaner.output.concentrate_pb               16502 non-null  float64\n",
      " 16  primary_cleaner.output.concentrate_sol              16224 non-null  float64\n",
      " 17  primary_cleaner.output.concentrate_au               16778 non-null  float64\n",
      " 18  primary_cleaner.output.tail_ag                      16777 non-null  float64\n",
      " 19  primary_cleaner.output.tail_pb                      16761 non-null  float64\n",
      " 20  primary_cleaner.output.tail_sol                     16579 non-null  float64\n",
      " 21  primary_cleaner.output.tail_au                      16777 non-null  float64\n",
      " 22  primary_cleaner.state.floatbank8_a_air              16820 non-null  float64\n",
      " 23  primary_cleaner.state.floatbank8_a_level            16827 non-null  float64\n",
      " 24  primary_cleaner.state.floatbank8_b_air              16820 non-null  float64\n",
      " 25  primary_cleaner.state.floatbank8_b_level            16833 non-null  float64\n",
      " 26  primary_cleaner.state.floatbank8_c_air              16822 non-null  float64\n",
      " 27  primary_cleaner.state.floatbank8_c_level            16833 non-null  float64\n",
      " 28  primary_cleaner.state.floatbank8_d_air              16821 non-null  float64\n",
      " 29  primary_cleaner.state.floatbank8_d_level            16833 non-null  float64\n",
      " 30  rougher.calculation.sulfate_to_au_concentrate       16833 non-null  float64\n",
      " 31  rougher.calculation.floatbank10_sulfate_to_au_feed  16833 non-null  float64\n",
      " 32  rougher.calculation.floatbank11_sulfate_to_au_feed  16833 non-null  float64\n",
      " 33  rougher.calculation.au_pb_ratio                     15618 non-null  float64\n",
      " 34  rougher.input.feed_ag                               16778 non-null  float64\n",
      " 35  rougher.input.feed_pb                               16632 non-null  float64\n",
      " 36  rougher.input.feed_rate                             16347 non-null  float64\n",
      " 37  rougher.input.feed_size                             16443 non-null  float64\n",
      " 38  rougher.input.feed_sol                              16568 non-null  float64\n",
      " 39  rougher.input.feed_au                               16777 non-null  float64\n",
      " 40  rougher.input.floatbank10_sulfate                   15816 non-null  float64\n",
      " 41  rougher.input.floatbank10_xanthate                  16514 non-null  float64\n",
      " 42  rougher.input.floatbank11_sulfate                   16237 non-null  float64\n",
      " 43  rougher.input.floatbank11_xanthate                  14956 non-null  float64\n",
      " 44  rougher.output.concentrate_ag                       16778 non-null  float64\n",
      " 45  rougher.output.concentrate_pb                       16778 non-null  float64\n",
      " 46  rougher.output.concentrate_sol                      16698 non-null  float64\n",
      " 47  rougher.output.concentrate_au                       16778 non-null  float64\n",
      " 48  rougher.output.recovery                             14287 non-null  float64\n",
      " 49  rougher.output.tail_ag                              14610 non-null  float64\n",
      " 50  rougher.output.tail_pb                              16778 non-null  float64\n",
      " 51  rougher.output.tail_sol                             14611 non-null  float64\n",
      " 52  rougher.output.tail_au                              14611 non-null  float64\n",
      " 53  rougher.state.floatbank10_a_air                     16807 non-null  float64\n",
      " 54  rougher.state.floatbank10_a_level                   16807 non-null  float64\n",
      " 55  rougher.state.floatbank10_b_air                     16807 non-null  float64\n",
      " 56  rougher.state.floatbank10_b_level                   16807 non-null  float64\n",
      " 57  rougher.state.floatbank10_c_air                     16807 non-null  float64\n",
      " 58  rougher.state.floatbank10_c_level                   16814 non-null  float64\n",
      " 59  rougher.state.floatbank10_d_air                     16802 non-null  float64\n",
      " 60  rougher.state.floatbank10_d_level                   16809 non-null  float64\n",
      " 61  rougher.state.floatbank10_e_air                     16257 non-null  float64\n",
      " 62  rougher.state.floatbank10_e_level                   16809 non-null  float64\n",
      " 63  rougher.state.floatbank10_f_air                     16802 non-null  float64\n",
      " 64  rougher.state.floatbank10_f_level                   16802 non-null  float64\n",
      " 65  secondary_cleaner.output.tail_ag                    16776 non-null  float64\n",
      " 66  secondary_cleaner.output.tail_pb                    16764 non-null  float64\n",
      " 67  secondary_cleaner.output.tail_sol                   14874 non-null  float64\n",
      " 68  secondary_cleaner.output.tail_au                    16778 non-null  float64\n",
      " 69  secondary_cleaner.state.floatbank2_a_air            16497 non-null  float64\n",
      " 70  secondary_cleaner.state.floatbank2_a_level          16751 non-null  float64\n",
      " 71  secondary_cleaner.state.floatbank2_b_air            16705 non-null  float64\n",
      " 72  secondary_cleaner.state.floatbank2_b_level          16748 non-null  float64\n",
      " 73  secondary_cleaner.state.floatbank3_a_air            16763 non-null  float64\n",
      " 74  secondary_cleaner.state.floatbank3_a_level          16747 non-null  float64\n",
      " 75  secondary_cleaner.state.floatbank3_b_air            16752 non-null  float64\n",
      " 76  secondary_cleaner.state.floatbank3_b_level          16750 non-null  float64\n",
      " 77  secondary_cleaner.state.floatbank4_a_air            16731 non-null  float64\n",
      " 78  secondary_cleaner.state.floatbank4_a_level          16747 non-null  float64\n",
      " 79  secondary_cleaner.state.floatbank4_b_air            16768 non-null  float64\n",
      " 80  secondary_cleaner.state.floatbank4_b_level          16767 non-null  float64\n",
      " 81  secondary_cleaner.state.floatbank5_a_air            16775 non-null  float64\n",
      " 82  secondary_cleaner.state.floatbank5_a_level          16775 non-null  float64\n",
      " 83  secondary_cleaner.state.floatbank5_b_air            16775 non-null  float64\n",
      " 84  secondary_cleaner.state.floatbank5_b_level          16776 non-null  float64\n",
      " 85  secondary_cleaner.state.floatbank6_a_air            16757 non-null  float64\n",
      " 86  secondary_cleaner.state.floatbank6_a_level          16775 non-null  float64\n",
      "dtypes: float64(86), object(1)\n",
      "memory usage: 11.2+ MB\n"
     ]
    }
   ],
   "source": [
    "recovery_train.info()\n",
    "    "
   ]
  },
  {
   "cell_type": "markdown",
   "id": "86264f69",
   "metadata": {},
   "source": [
    "* Data type for `date` should be changed to 'datetime'\n",
    "* All other data types are correct"
   ]
  },
  {
   "cell_type": "markdown",
   "id": "f508817f",
   "metadata": {},
   "source": [
    "## Targets\n",
    "TODO:\n",
    "+ plot:\n",
    "    + title\n",
    "    + labels\n",
    "    + fix ticks for hour based dynamics"
   ]
  },
  {
   "cell_type": "markdown",
   "id": "9dbdebdf",
   "metadata": {},
   "source": [
    "<!-- TODO:\n",
    "+ plot\n",
    "    + xticks for targets-by-date\n",
    "    + figure legend\n",
    "    + y lables\n",
    "    + labels font size\n",
    "    + titles -->"
   ]
  },
  {
   "cell_type": "code",
   "execution_count": 7,
   "id": "99604ac4",
   "metadata": {},
   "outputs": [
    {
     "name": "stderr",
     "output_type": "stream",
     "text": [
      "<ipython-input-7-aa22f9180d77>:3: SettingWithCopyWarning: \n",
      "A value is trying to be set on a copy of a slice from a DataFrame.\n",
      "Try using .loc[row_indexer,col_indexer] = value instead\n",
      "\n",
      "See the caveats in the documentation: https://pandas.pydata.org/pandas-docs/stable/user_guide/indexing.html#returning-a-view-versus-a-copy\n",
      "  targets_dates['date'] = pd.to_datetime(targets_dates['date'])\n"
     ]
    },
    {
     "data": {
      "text/html": [
       "<div>\n",
       "<style scoped>\n",
       "    .dataframe tbody tr th:only-of-type {\n",
       "        vertical-align: middle;\n",
       "    }\n",
       "\n",
       "    .dataframe tbody tr th {\n",
       "        vertical-align: top;\n",
       "    }\n",
       "\n",
       "    .dataframe thead th {\n",
       "        text-align: right;\n",
       "    }\n",
       "</style>\n",
       "<table border=\"1\" class=\"dataframe\">\n",
       "  <thead>\n",
       "    <tr style=\"text-align: right;\">\n",
       "      <th></th>\n",
       "      <th>rougher.output.recovery</th>\n",
       "      <th>final.output.recovery</th>\n",
       "    </tr>\n",
       "    <tr>\n",
       "      <th>date</th>\n",
       "      <th></th>\n",
       "      <th></th>\n",
       "    </tr>\n",
       "  </thead>\n",
       "  <tbody>\n",
       "    <tr>\n",
       "      <th>2016-01-15 00:00:00</th>\n",
       "      <td>87.107763</td>\n",
       "      <td>70.541216</td>\n",
       "    </tr>\n",
       "    <tr>\n",
       "      <th>2016-01-15 01:00:00</th>\n",
       "      <td>86.843261</td>\n",
       "      <td>69.266198</td>\n",
       "    </tr>\n",
       "    <tr>\n",
       "      <th>2016-01-15 02:00:00</th>\n",
       "      <td>86.842308</td>\n",
       "      <td>68.116445</td>\n",
       "    </tr>\n",
       "    <tr>\n",
       "      <th>2016-01-15 03:00:00</th>\n",
       "      <td>87.226430</td>\n",
       "      <td>68.347543</td>\n",
       "    </tr>\n",
       "    <tr>\n",
       "      <th>2016-01-15 04:00:00</th>\n",
       "      <td>86.688794</td>\n",
       "      <td>66.927016</td>\n",
       "    </tr>\n",
       "  </tbody>\n",
       "</table>\n",
       "</div>"
      ],
      "text/plain": [
       "                     rougher.output.recovery  final.output.recovery\n",
       "date                                                               \n",
       "2016-01-15 00:00:00                87.107763              70.541216\n",
       "2016-01-15 01:00:00                86.843261              69.266198\n",
       "2016-01-15 02:00:00                86.842308              68.116445\n",
       "2016-01-15 03:00:00                87.226430              68.347543\n",
       "2016-01-15 04:00:00                86.688794              66.927016"
      ]
     },
     "execution_count": 7,
     "metadata": {},
     "output_type": "execute_result"
    }
   ],
   "source": [
    "# select targets and date feature\n",
    "targets_dates = recovery_full[['date'] + TARGETS]\n",
    "targets_dates['date'] = pd.to_datetime(targets_dates['date'])\n",
    "targets_dates.set_index('date', inplace=True)\n",
    "\n",
    "# display first few observations\n",
    "targets_dates.head()"
   ]
  },
  {
   "cell_type": "code",
   "execution_count": 141,
   "id": "c7b5f9f5-4d95-4fc5-b328-67c7a4c265df",
   "metadata": {},
   "outputs": [],
   "source": [
    "def get_random_days(data, days=1, seed=None):\n",
    "    index = data.index.to_series()\n",
    "    random_start_date = index.sample().dt.date.values[0]\n",
    "    end_date = (\n",
    "        (random_start_date + pd.Timedelta(days, 'D'))\n",
    "    )\n",
    "    random_days = data.loc[random_start_date : end_date]\n",
    "    return random_days\n",
    "\n"
   ]
  },
  {
   "cell_type": "code",
   "execution_count": 153,
   "id": "6a5fb072",
   "metadata": {},
   "outputs": [
    {
     "name": "stdout",
     "output_type": "stream",
     "text": [
      "2016-12-20\n",
      "2016-04-12\n"
     ]
    },
    {
     "data": {
      "text/plain": [
       "''"
      ]
     },
     "execution_count": 153,
     "metadata": {},
     "output_type": "execute_result"
    },
    {
     "data": {
      "image/png": "[encoded data removed]",
      "text/plain": [
       "<Figure size 1080x720 with 2 Axes>"
      ]
     },
     "metadata": {},
     "output_type": "display_data"
    }
   ],
   "source": [
    "# group targets by date (daily mean)\n",
    "date = targets_dates.index.date\n",
    "targets_by_date = targets_dates.groupby(date).mean()\n",
    "\n",
    "# randomly select a 24h interval to plot hourly values\n",
    "targets_random_24hours = get_random_days(targets_dates)\n",
    "\n",
    "# randomly select a 1 month interval to plot daily mean \n",
    "targets_random_month = get_random_days(targets_dates, days=30)\n",
    "\n",
    "# initialize figure\n",
    "fig, axes = plt.subplots(\n",
    "    nrows=2,\n",
    "    ncols=1,\n",
    "    sharey=True,\n",
    "    figsize=(15, 10),\n",
    "    gridspec_kw={'height_ratios':[1,2]}\n",
    ")\n",
    "upper_ax = axes[0]\n",
    "lower_ax = axes[1]\n",
    "\n",
    "# plot targets by date and by hour\n",
    "targets_random_24hours.plot(ax=axes[0], legend=False)\n",
    "targets_random_month.plot(ax=axes[1], )\n",
    "\n",
    "# upper ax setup\n",
    "# --------------\n",
    "# x-ticks\n",
    "# upper_ax.xaxis.set_ticks(np.arange(1, 25)) \n",
    "# y limits\n",
    "# upper_y_lim_upper_ax = upper_ax.get_ylim()[1]\n",
    "# upper_ax.set_ylim(60, 90)\n",
    ";\n"
   ]
  },
  {
   "cell_type": "markdown",
   "id": "950cbbdc",
   "metadata": {},
   "source": [
    "## Conclusions"
   ]
  },
  {
   "cell_type": "markdown",
   "id": "2c69b16b",
   "metadata": {
    "tags": []
   },
   "source": [
    "* Both rougher and final recovery are almost constant with respect the hour of the day.\n",
    "* Strong fluctuations  in recovery rates are observed between dates."
   ]
  },
  {
   "cell_type": "markdown",
   "id": "552ce4cd",
   "metadata": {},
   "source": [
    "# Pre-processing"
   ]
  },
  {
   "cell_type": "markdown",
   "id": "88c5240a",
   "metadata": {},
   "source": [
    "## Convert `date` column to 'datetime'"
   ]
  },
  {
   "cell_type": "code",
   "execution_count": 12,
   "id": "35152fd6",
   "metadata": {},
   "outputs": [],
   "source": [
    "recovery_train['date'] = pd.to_datetime(recovery_train['date'])\n",
    "recovery_test['date'] = pd.to_datetime(recovery_test['date'])\n",
    "recovery_full['date'] = pd.to_datetime(recovery_full['date'])"
   ]
  },
  {
   "cell_type": "markdown",
   "id": "34defa42",
   "metadata": {},
   "source": [
    "## Create a copy of the data sets before pre-processing"
   ]
  },
  {
   "cell_type": "code",
   "execution_count": 13,
   "id": "76b4f342",
   "metadata": {},
   "outputs": [],
   "source": [
    "train_raw = recovery_train.copy()\n",
    "test_raw = recovery_test.copy()\n",
    "full_raw = recovery_full.copy()"
   ]
  },
  {
   "cell_type": "code",
   "execution_count": 14,
   "id": "c9c39b55",
   "metadata": {},
   "outputs": [
    {
     "name": "stdout",
     "output_type": "stream",
     "text": [
      "(16860, 87)\n"
     ]
    }
   ],
   "source": [
    "print(\n",
    "    train_raw.shape\n",
    ")"
   ]
  },
  {
   "cell_type": "markdown",
   "id": "ce57d55f",
   "metadata": {
    "tags": []
   },
   "source": [
    "## Check recovery calculation\n",
    "This is done to make sure that recovery data is correct. The formula being used is how recovery is defined by the process managers."
   ]
  },
  {
   "cell_type": "markdown",
   "id": "fbb57952",
   "metadata": {
    "tags": []
   },
   "source": [
    "### Calculate `rougher.output.recovery`"
   ]
  },
  {
   "cell_type": "markdown",
   "id": "f042d366",
   "metadata": {
    "tags": []
   },
   "source": [
    "1) $Recovery\\ =\\ \\frac{C*(F-T)}{F*(C-T)}*100\\%$\n",
    "\n",
    "    + C — share of gold in the concentrate right after flotation (for finding the rougher concentrate recovery)/after purification (for finding the final concentrate recovery)\n",
    "    + F — share of gold in the feed before flotation (for finding the rougher concentrate recovery)/in the concentrate right after flotation (for finding the final concentrate recovery)\n",
    "    + T — share of gold in the rougher tails right after flotation (for finding the rougher concentrate recovery)/after purification (for finding the final concentrate recovery)"
   ]
  },
  {
   "cell_type": "code",
   "execution_count": 15,
   "id": "d947fa7e",
   "metadata": {
    "tags": []
   },
   "outputs": [],
   "source": [
    "# calculate rougher.output.recovery from formula using provided features\n",
    "F = recovery_train['rougher.input.feed_au'] # share of gold in the floatation feed\n",
    "C = recovery_train['rougher.output.concentrate_au'] # share of gold in the concentrate right after floatation\n",
    "T = recovery_train['rougher.output.tail_au'] # share of gold in the rougher tails (residue after floatation)\n",
    "\n",
    "calculated_rougher_output_recovery = (C * (F-T)) / (F * (C-T)) * 100\n"
   ]
  },
  {
   "cell_type": "markdown",
   "id": "5ce117ca",
   "metadata": {
    "tags": []
   },
   "source": [
    "### MAE for train set recovery and calculated recovery\n",
    "\n",
    "$MAE\\ =\\ \\frac{1}{N}\\ \\Sigma_{i=0}^{N-1}\\ |y_i - \\hat{y}_i|$"
   ]
  },
  {
   "cell_type": "code",
   "execution_count": 16,
   "id": "38bee85c",
   "metadata": {
    "tags": []
   },
   "outputs": [
    {
     "name": "stdout",
     "output_type": "stream",
     "text": [
      "\n",
      "MAE train Vs. calculated: 7.88e-15\n",
      "\n"
     ]
    }
   ],
   "source": [
    "# rougher.output.recovery from train data set\n",
    "train_rougher_output_recovery = recovery_train['rougher.output.recovery'] \n",
    "\n",
    "# merge train and calculated recovery\n",
    "concatenated = pd.concat(\n",
    "    [\n",
    "        train_rougher_output_recovery,\n",
    "        calculated_rougher_output_recovery\n",
    "    ],\n",
    "    keys=['train', 'calculated'],\n",
    "    axis=1\n",
    ")\n",
    "\n",
    "# absolute difference \n",
    "concatenated['abs_diff'] = concatenated.apply(\n",
    "    lambda row: np.absolute(row['train'] - row['calculated']),\n",
    "    axis=1\n",
    ")\n",
    "\n",
    "# MAE\n",
    "mae = concatenated['abs_diff'].sum() / len(concatenated)\n",
    "\n",
    "print()\n",
    "print(\n",
    "    f\"MAE train Vs. calculated: {mae:.2e}\"\n",
    ")\n",
    "print()"
   ]
  },
  {
   "cell_type": "markdown",
   "id": "f732e177",
   "metadata": {},
   "source": [
    "### Conclusion"
   ]
  },
  {
   "cell_type": "markdown",
   "id": "f008eaeb",
   "metadata": {},
   "source": [
    "* Provided recovery data is correct, as MAE is practically zero."
   ]
  },
  {
   "cell_type": "markdown",
   "id": "a24a153a",
   "metadata": {
    "tags": []
   },
   "source": [
    "## Features missing from test set\n"
   ]
  },
  {
   "cell_type": "markdown",
   "id": "2f9d4de7",
   "metadata": {
    "tags": []
   },
   "source": [
    "### Absent features"
   ]
  },
  {
   "cell_type": "code",
   "execution_count": 17,
   "id": "48cc1693",
   "metadata": {},
   "outputs": [],
   "source": [
    "missing_features = (\n",
    "    set(recovery_train.columns)\n",
    "    - set(recovery_test.columns)\n",
    ")"
   ]
  },
  {
   "cell_type": "code",
   "execution_count": 18,
   "id": "196156c8",
   "metadata": {
    "tags": []
   },
   "outputs": [
    {
     "name": "stdout",
     "output_type": "stream",
     "text": [
      "\n",
      "Number of features missing from test set: 34\n",
      "\n",
      "\n",
      "Missing features\n",
      "----------------\n",
      "rougher.calculation.au_pb_ratio\n",
      "rougher.output.concentrate_au\n",
      "primary_cleaner.output.concentrate_sol\n",
      "primary_cleaner.output.concentrate_au\n",
      "rougher.output.tail_au\n",
      "final.output.tail_au\n",
      "secondary_cleaner.output.tail_au\n",
      "primary_cleaner.output.tail_au\n",
      "secondary_cleaner.output.tail_ag\n",
      "rougher.output.concentrate_pb\n",
      "rougher.calculation.floatbank10_sulfate_to_au_feed\n",
      "primary_cleaner.output.tail_pb\n",
      "rougher.output.recovery\n",
      "primary_cleaner.output.tail_ag\n",
      "primary_cleaner.output.concentrate_ag\n",
      "final.output.concentrate_au\n",
      "secondary_cleaner.output.tail_sol\n",
      "primary_cleaner.output.tail_sol\n",
      "final.output.recovery\n",
      "final.output.tail_pb\n",
      "rougher.output.concentrate_sol\n",
      "final.output.concentrate_pb\n",
      "rougher.output.tail_sol\n",
      "primary_cleaner.output.concentrate_pb\n",
      "rougher.output.tail_ag\n",
      "secondary_cleaner.output.tail_pb\n",
      "rougher.calculation.sulfate_to_au_concentrate\n",
      "rougher.calculation.floatbank11_sulfate_to_au_feed\n",
      "final.output.tail_sol\n",
      "final.output.concentrate_sol\n",
      "final.output.tail_ag\n",
      "final.output.concentrate_ag\n",
      "rougher.output.concentrate_ag\n",
      "rougher.output.tail_pb\n"
     ]
    }
   ],
   "source": [
    "print()\n",
    "print(\n",
    "    f\"Number of features missing from test set: \"\n",
    "    f\"{len(missing_features)}\\n\"\n",
    ")\n",
    "print()\n",
    "print(\n",
    "    \"Missing features\\n\"\n",
    "    \"----------------\"\n",
    ")\n",
    "for feature in missing_features:\n",
    "    print(feature) "
   ]
  },
  {
   "cell_type": "markdown",
   "id": "a1f5a6ee",
   "metadata": {},
   "source": [
    "### Conclusions"
   ]
  },
  {
   "cell_type": "markdown",
   "id": "07b22c3f",
   "metadata": {},
   "source": [
    "* Features missing from the test set are:\n",
    "\n",
    "    + **Features that would not be available as mopel inputs when prediction is needed**, since they are calculated parameters obtained after online measurments have already being obtained. \n",
    "    + **Features that largly correspond with our target variables**, making them unfit for use in model training (introduce data leakage).\n",
    "\n",
    "<!-- + For the above reasons, these features are excluded from the train set. -->\n"
   ]
  },
  {
   "cell_type": "markdown",
   "id": "1cf5410c",
   "metadata": {},
   "source": [
    "## List of features, excluding  redundant features (missing features)"
   ]
  },
  {
   "cell_type": "code",
   "execution_count": 19,
   "id": "9296aed7",
   "metadata": {},
   "outputs": [
    {
     "data": {
      "text/plain": [
       "{'primary_cleaner.input.depressant',\n",
       " 'primary_cleaner.input.feed_size',\n",
       " 'primary_cleaner.input.sulfate',\n",
       " 'primary_cleaner.input.xanthate',\n",
       " 'primary_cleaner.state.floatbank8_a_air',\n",
       " 'primary_cleaner.state.floatbank8_a_level',\n",
       " 'primary_cleaner.state.floatbank8_b_air',\n",
       " 'primary_cleaner.state.floatbank8_b_level',\n",
       " 'primary_cleaner.state.floatbank8_c_air',\n",
       " 'primary_cleaner.state.floatbank8_c_level',\n",
       " 'primary_cleaner.state.floatbank8_d_air',\n",
       " 'primary_cleaner.state.floatbank8_d_level',\n",
       " 'rougher.input.feed_ag',\n",
       " 'rougher.input.feed_au',\n",
       " 'rougher.input.feed_pb',\n",
       " 'rougher.input.feed_rate',\n",
       " 'rougher.input.feed_size',\n",
       " 'rougher.input.feed_sol',\n",
       " 'rougher.input.floatbank10_sulfate',\n",
       " 'rougher.input.floatbank10_xanthate',\n",
       " 'rougher.input.floatbank11_sulfate',\n",
       " 'rougher.input.floatbank11_xanthate',\n",
       " 'rougher.state.floatbank10_a_air',\n",
       " 'rougher.state.floatbank10_a_level',\n",
       " 'rougher.state.floatbank10_b_air',\n",
       " 'rougher.state.floatbank10_b_level',\n",
       " 'rougher.state.floatbank10_c_air',\n",
       " 'rougher.state.floatbank10_c_level',\n",
       " 'rougher.state.floatbank10_d_air',\n",
       " 'rougher.state.floatbank10_d_level',\n",
       " 'rougher.state.floatbank10_e_air',\n",
       " 'rougher.state.floatbank10_e_level',\n",
       " 'rougher.state.floatbank10_f_air',\n",
       " 'rougher.state.floatbank10_f_level',\n",
       " 'secondary_cleaner.state.floatbank2_a_air',\n",
       " 'secondary_cleaner.state.floatbank2_a_level',\n",
       " 'secondary_cleaner.state.floatbank2_b_air',\n",
       " 'secondary_cleaner.state.floatbank2_b_level',\n",
       " 'secondary_cleaner.state.floatbank3_a_air',\n",
       " 'secondary_cleaner.state.floatbank3_a_level',\n",
       " 'secondary_cleaner.state.floatbank3_b_air',\n",
       " 'secondary_cleaner.state.floatbank3_b_level',\n",
       " 'secondary_cleaner.state.floatbank4_a_air',\n",
       " 'secondary_cleaner.state.floatbank4_a_level',\n",
       " 'secondary_cleaner.state.floatbank4_b_air',\n",
       " 'secondary_cleaner.state.floatbank4_b_level',\n",
       " 'secondary_cleaner.state.floatbank5_a_air',\n",
       " 'secondary_cleaner.state.floatbank5_a_level',\n",
       " 'secondary_cleaner.state.floatbank5_b_air',\n",
       " 'secondary_cleaner.state.floatbank5_b_level',\n",
       " 'secondary_cleaner.state.floatbank6_a_air',\n",
       " 'secondary_cleaner.state.floatbank6_a_level'}"
      ]
     },
     "execution_count": 19,
     "metadata": {},
     "output_type": "execute_result"
    }
   ],
   "source": [
    "FEATURES = list(set(recovery_full.columns) - missing_features - set(['date']))\n",
    "set(FEATURES)"
   ]
  },
  {
   "cell_type": "markdown",
   "id": "ee858efe",
   "metadata": {},
   "source": [
    "## Examine feature dynamics\n",
    "TODO: add legend to plot."
   ]
  },
  {
   "cell_type": "markdown",
   "id": "53b20fa1",
   "metadata": {},
   "source": [
    "<!-- TODO:\n",
    "+ plot a random sample of observations. -->"
   ]
  },
  {
   "cell_type": "code",
   "execution_count": 40,
   "id": "c508c7cd",
   "metadata": {},
   "outputs": [],
   "source": [
    "scaler = StandardScaler()\n",
    "scaler.fit(recovery_train[FEATURES])\n",
    "\n",
    "# features' data slice\n",
    "train_features_scaled = pd.DataFrame(scaler.transform(recovery_train[FEATURES]))\n",
    "\n",
    "# group selected features by date\n",
    "features_by_date = (\n",
    "    train_features_scaled\n",
    "    .pivot_table(index=[recovery_train['date'].dt.date])\n",
    ")\n",
    "\n",
    "# group targets by hour\n",
    "features_by_hour = (\n",
    "    train_features_scaled\n",
    "    .pivot_table(index=[recovery_train['date'].dt.hour]) # group by hour of day\n",
    "    .rename_axis('hour') # rename index axis\n",
    "    .rename(index=lambda i: i+1) # rename index values from zero based to 24h scale\n",
    ")\n"
   ]
  },
  {
   "cell_type": "code",
   "execution_count": 46,
   "id": "8d216197-c4da-4c04-8776-09d889d1089a",
   "metadata": {},
   "outputs": [
    {
     "data": {
      "text/plain": [
       "0       2016-01-15 00:00:00\n",
       "1       2016-01-15 01:00:00\n",
       "2       2016-01-15 02:00:00\n",
       "3       2016-01-15 03:00:00\n",
       "4       2016-01-15 04:00:00\n",
       "                ...        \n",
       "16855   2018-08-18 06:59:59\n",
       "16856   2018-08-18 07:59:59\n",
       "16857   2018-08-18 08:59:59\n",
       "16858   2018-08-18 09:59:59\n",
       "16859   2018-08-18 10:59:59\n",
       "Name: date, Length: 14149, dtype: datetime64[ns]"
      ]
     },
     "execution_count": 46,
     "metadata": {},
     "output_type": "execute_result"
    }
   ],
   "source": [
    "recovery_train['date']"
   ]
  },
  {
   "cell_type": "code",
   "execution_count": 39,
   "id": "f7547e87",
   "metadata": {},
   "outputs": [
    {
     "name": "stdout",
     "output_type": "stream",
     "text": [
      "\n"
     ]
    },
    {
     "data": {
      "text/plain": [
       "<matplotlib.legend.Legend at 0x7f15bc0dcf40>"
      ]
     },
     "execution_count": 39,
     "metadata": {},
     "output_type": "execute_result"
    },
    {
     "data": {
      "image/png": "[encoded data removed]",
      "text/plain": [
       "<Figure size 1080x720 with 2 Axes>"
      ]
     },
     "metadata": {},
     "output_type": "display_data"
    }
   ],
   "source": [
    "print()\n",
    "\n",
    "# random selection of features\n",
    "fraction_features_to_select = 0.25\n",
    "n_total_features = len(FEATURES)\n",
    "n_selected_features = int(\n",
    "    n_total_features  \n",
    "    * fraction_features_to_select\n",
    ")\n",
    "random_features = np.random.randint(\n",
    "    0, n_total_features, size=n_selected_features\n",
    ")\n",
    "\n",
    "# number of dates to show for between-days-dynamics\n",
    "date_window = 30\n",
    "\n",
    "# random number between 0 and length of features_by_date to start a 1 month window from\n",
    "start_date = np.random.randint(\n",
    "    0, features_by_date.shape[0]\n",
    ")\n",
    "# initialize figure\n",
    "fig, axes = plt.subplots(\n",
    "    nrows=2,\n",
    "    ncols=1,\n",
    "    sharey=True,\n",
    "    figsize=(15, 10),\n",
    "    gridspec_kw={'height_ratios':[1,2]}\n",
    ")\n",
    "upper_ax = axes[0]\n",
    "lower_ax = axes[1]\n",
    "\n",
    "\n",
    "\n",
    "\n",
    "# plot features by date and by hour\n",
    "features_by_hour.plot(ax=upper_ax, legend=False)\n",
    "random_selection = features_by_date.iloc[\n",
    "    start_date: start_date + date_window,\n",
    "    np.r_[random_features]\n",
    "]\n",
    "random_selection.plot(ax=lower_ax, legend=False, marker='*')\n",
    "\n",
    "# x ticks\n",
    "upper_ax.xaxis.set_major_locator(ticker.MultipleLocator(2))\n",
    "lower_ax.xaxis.set_major_locator(ticker.MultipleLocator(7))\n",
    "\n",
    "# x labels\n",
    "upper_ax.set_xlabel(\"hour-of-day\", size=13)\n",
    "lower_ax.set_xlabel('date', size=13);\n",
    "\n",
    "\n",
    "# figure title\n",
    "title = (\n",
    "    f\"Hour-of-day and between days feature dynamics\\n\"\n",
    "    f\"--------------------------------------------------------------------\\n\"\n",
    "    f\"A random selection of {num2words(n_selected_features)} features is presented.\\n\"\n",
    "    f\"Between days dynamics are for a random {num2words(date_window / 30)} month window.\\n\"\n",
    "    \"Note: Y axis is similarly scaled in both subplots.\"\n",
    ")\n",
    "fig.suptitle(\n",
    "    title,\n",
    "    size=15,\n",
    "    ma='left',\n",
    "    x=0.33,\n",
    "    y=1.05\n",
    "\n",
    "    \n",
    ")\n",
    "\n",
    "fig.legend()"
   ]
  },
  {
   "cell_type": "markdown",
   "id": "1a943aff",
   "metadata": {},
   "source": [
    "### Conclusions"
   ]
  },
  {
   "cell_type": "markdown",
   "id": "d26b20c3",
   "metadata": {},
   "source": [
    "* Features values change minimaly within each day, while often fluctuating significantly between dates.\n"
   ]
  },
  {
   "cell_type": "markdown",
   "id": "211a7aa8",
   "metadata": {},
   "source": [
    "## Missing values"
   ]
  },
  {
   "cell_type": "markdown",
   "id": "4c75e5b2",
   "metadata": {},
   "source": [
    "TODO: \n",
    "+ list Nan values as percentages\n",
    "+ print out how many NaN values exist before fill.\n",
    "+ how many NaN values exist in target and what portion of the data they represent"
   ]
  },
  {
   "cell_type": "code",
   "execution_count": 22,
   "id": "8f54e851",
   "metadata": {},
   "outputs": [
    {
     "name": "stdout",
     "output_type": "stream",
     "text": [
      "Percent missing values for features in train set\n",
      "----------------------------------------\n",
      "rougher.output.recovery                     15.260973\n",
      "rougher.output.tail_ag                      13.345196\n",
      "rougher.output.tail_sol                     13.339265\n",
      "rougher.output.tail_au                      13.339265\n",
      "secondary_cleaner.output.tail_sol           11.779359\n",
      "rougher.input.floatbank11_xanthate          11.293001\n",
      "final.output.recovery                        9.021352\n",
      "primary_cleaner.input.sulfate                7.752076\n",
      "primary_cleaner.input.depressant             7.485172\n",
      "rougher.calculation.au_pb_ratio              7.366548\n",
      "rougher.input.floatbank10_sulfate            6.192171\n",
      "primary_cleaner.input.xanthate               5.842230\n",
      "primary_cleaner.output.concentrate_sol       3.772242\n",
      "rougher.input.floatbank11_sulfate            3.695136\n",
      "rougher.state.floatbank10_e_air              3.576512\n",
      "rougher.input.feed_rate                      3.042705\n",
      "rougher.input.feed_size                      2.473310\n",
      "final.output.concentrate_sol                 2.194543\n",
      "secondary_cleaner.state.floatbank2_a_air     2.153025\n",
      "primary_cleaner.output.concentrate_pb        2.123369\n",
      "dtype: float64\n"
     ]
    }
   ],
   "source": [
    "percent_missing_values = recovery_train.isnull().mean() * 100\n",
    "print(\n",
    "    \"Percent missing values for features in train set\\n\"\n",
    "    \"----------------------------------------\\n\"\n",
    "    f\"{percent_missing_values.sort_values(ascending=False).head(20)}\"\n",
    ")"
   ]
  },
  {
   "cell_type": "markdown",
   "id": "adcf5eea-37f8-41ee-8b21-5ced3d1dc175",
   "metadata": {},
   "source": [
    "* Both target variables and several independent features have siginificant share of missing values."
   ]
  },
  {
   "cell_type": "markdown",
   "id": "49e8f436",
   "metadata": {},
   "source": [
    "### Fill missing values for features using forward fill\n",
    "Given the low intra daily varaibilty observed earlier, we will fill missing values with the last valid value in the relevant column (feature)."
   ]
  },
  {
   "cell_type": "code",
   "execution_count": 23,
   "id": "286ff266",
   "metadata": {},
   "outputs": [],
   "source": [
    "# fill train set features\n",
    "recovery_train.loc[:, FEATURES] = (\n",
    "    recovery_train.loc[:, FEATURES].fillna(method='ffill')\n",
    ")\n",
    "\n",
    "# fill test set features\n",
    "recovery_test.loc[:, FEATURES] = (\n",
    "    recovery_test.loc[:, FEATURES].fillna(method='ffill')\n",
    ")\n",
    "\n",
    "# fill full set features\n",
    "recovery_full.loc[:, FEATURES] = (\n",
    "    recovery_full.loc[:, FEATURES].fillna(method='ffill')\n",
    ")\n"
   ]
  },
  {
   "cell_type": "markdown",
   "id": "c00d683f",
   "metadata": {},
   "source": [
    "### Remove observations where either targets are unavailable\n"
   ]
  },
  {
   "cell_type": "markdown",
   "id": "571d8ca0",
   "metadata": {},
   "source": [
    "#### Train set"
   ]
  },
  {
   "cell_type": "code",
   "execution_count": 24,
   "id": "f84ab4e2",
   "metadata": {},
   "outputs": [],
   "source": [
    "\n",
    "# boolean mask for where either of the targets is NaN\n",
    "target_is_nan = (\n",
    "    recovery_train['rougher.output.recovery'].isnull() \n",
    "    | recovery_train['final.output.recovery'].isnull()\n",
    ")\n",
    "\n",
    "# count observations before removal\n",
    "before = recovery_train.shape[0]\n",
    "\n",
    "# select observations were neither targets is NaN\n",
    "recovery_train = recovery_train.loc[~target_is_nan]\n",
    "\n",
    "# observations after removal\n",
    "after = recovery_train.shape[0]\n",
    "\n",
    "# observations removed\n",
    "n_removed = before - after"
   ]
  },
  {
   "cell_type": "code",
   "execution_count": 25,
   "id": "6e4c5119",
   "metadata": {},
   "outputs": [
    {
     "name": "stdout",
     "output_type": "stream",
     "text": [
      "Observations removed: 2711 (16.08%)\n"
     ]
    }
   ],
   "source": [
    "print(\n",
    "    f\"Observations removed: \"\n",
    "    f\"{n_removed} ({n_removed / before:.2%})\"\n",
    ")"
   ]
  },
  {
   "cell_type": "markdown",
   "id": "d743e639",
   "metadata": {},
   "source": [
    "#### Test set"
   ]
  },
  {
   "cell_type": "code",
   "execution_count": 26,
   "id": "c5238251",
   "metadata": {},
   "outputs": [],
   "source": [
    "# full data set boolean mask for where either of the targets is NaN\n",
    "full_target_is_nan = (\n",
    "    recovery_full['rougher.output.recovery'].isnull() \n",
    "    | recovery_full['final.output.recovery'].isnull()\n",
    ")\n",
    "\n",
    "# timestamp for the above observations\n",
    "full_nan_timestamp = recovery_full[full_target_is_nan]['date']\n",
    "\n",
    "# select observations in test set \n",
    "    # where targets for corresponding observations in full set are not NaN\n",
    "before = recovery_test.shape[0]\n",
    "recovery_test = (\n",
    "    recovery_test[\n",
    "        ~recovery_test['date'].isin(full_nan_timestamp) # inverse mask of observations where targets are NaN\n",
    "    ]\n",
    ")\n",
    "after = recovery_test.shape[0]\n",
    "n_removed = before - after"
   ]
  },
  {
   "cell_type": "code",
   "execution_count": 27,
   "id": "329e7c04",
   "metadata": {},
   "outputs": [
    {
     "name": "stdout",
     "output_type": "stream",
     "text": [
      "Observations removed: 566 (9.67%)\n"
     ]
    }
   ],
   "source": [
    "print(\n",
    "    f\"Observations removed: \"\n",
    "    f\"{n_removed} ({n_removed / before:.2%})\"\n",
    ")"
   ]
  },
  {
   "cell_type": "markdown",
   "id": "9055b433",
   "metadata": {},
   "source": [
    "#### Full set"
   ]
  },
  {
   "cell_type": "code",
   "execution_count": 28,
   "id": "e1a3f73a",
   "metadata": {},
   "outputs": [],
   "source": [
    "\n",
    "# boolean mask for where either of the targets is NaN\n",
    "target_is_nan = (\n",
    "    recovery_full['rougher.output.recovery'].isnull() \n",
    "    | recovery_full['final.output.recovery'].isnull()\n",
    ")\n",
    "\n",
    "\n",
    "before = recovery_full.shape[0]\n",
    "recovery_full = recovery_full.loc[~target_is_nan]\n",
    "after = recovery_full.shape[0]\n",
    "n_removed = before - after"
   ]
  },
  {
   "cell_type": "code",
   "execution_count": 29,
   "id": "79483bec",
   "metadata": {},
   "outputs": [
    {
     "name": "stdout",
     "output_type": "stream",
     "text": [
      "Observations removed: 3277 (14.43%)\n"
     ]
    }
   ],
   "source": [
    "print(\n",
    "    f\"Observations removed: \"\n",
    "    f\"{n_removed} ({n_removed / before:.2%})\"\n",
    ")"
   ]
  },
  {
   "cell_type": "markdown",
   "id": "96d342d0",
   "metadata": {},
   "source": [
    "### Final test for NaN values"
   ]
  },
  {
   "cell_type": "code",
   "execution_count": 30,
   "id": "99e0525b",
   "metadata": {},
   "outputs": [
    {
     "name": "stdout",
     "output_type": "stream",
     "text": [
      "Train set: 0\n",
      "Test set: 0\n",
      "Full set: 0\n",
      "\n"
     ]
    }
   ],
   "source": [
    "print(\n",
    "    f\"Train set: {recovery_train[FEATURES + TARGETS].isnull().sum().sum()}\\n\"\n",
    "    f\"Test set: {recovery_test[FEATURES].isnull().sum().sum()}\\n\"\n",
    "    f\"Full set: {recovery_full[FEATURES + TARGETS].isnull().sum().sum()}\\n\"\n",
    "    \n",
    "#     f\"NaN values in test set: {recovery_test.isnull().sum().sum()}\\n\\n\"\n",
    "#     f\"train set NaNs:\\n\\n{recovery_train.isnull().sum()}\"\n",
    ")"
   ]
  },
  {
   "cell_type": "markdown",
   "id": "302af88e",
   "metadata": {},
   "source": [
    "<!-- ### Examine frequency of Nan values -->"
   ]
  },
  {
   "cell_type": "markdown",
   "id": "cf2be317",
   "metadata": {},
   "source": [
    "## Check for duplicates"
   ]
  },
  {
   "cell_type": "code",
   "execution_count": 31,
   "id": "bcbd1960",
   "metadata": {},
   "outputs": [
    {
     "name": "stdout",
     "output_type": "stream",
     "text": [
      "Duplicated observations\n",
      "-----------------------\n",
      "Train set: 0.0\n",
      "Test set: 0.0\n",
      "Full set: 0.0\n"
     ]
    },
    {
     "name": "stderr",
     "output_type": "stream",
     "text": [
      "<ipython-input-31-6da2bd3b902b>:18: FutureWarning: Dropping of nuisance columns in DataFrame reductions (with 'numeric_only=None') is deprecated; in a future version this will raise TypeError.  Select only valid columns before calling the reduction.\n",
      "  f\"{label} set: {duplicates.sum().sum()}\"\n"
     ]
    }
   ],
   "source": [
    "datasets = [\n",
    "    recovery_train,\n",
    "    recovery_test,\n",
    "    recovery_full\n",
    "]\n",
    "zipped = zip(\n",
    "    DATASETS_LABELS,\n",
    "    datasets\n",
    ")\n",
    "\n",
    "print(\n",
    "    f\"Duplicated observations\\n\"\n",
    "    f\"-----------------------\"\n",
    ")\n",
    "for label, dataset in zipped:\n",
    "    duplicates = dataset[dataset.duplicated()]\n",
    "    print(\n",
    "        f\"{label} set: {duplicates.sum().sum()}\"\n",
    "    )"
   ]
  },
  {
   "cell_type": "code",
   "execution_count": 32,
   "id": "fe3a6c9c",
   "metadata": {},
   "outputs": [
    {
     "name": "stdout",
     "output_type": "stream",
     "text": [
      "Duplicated time stamps\n",
      "----------------------\n",
      "Full data set: 0\n",
      "Train set: 0\n",
      "Test set: 0\n",
      "\n"
     ]
    }
   ],
   "source": [
    "print(\n",
    "    f\"Duplicated time stamps\\n\"\n",
    "    f\"----------------------\\n\"\n",
    "    f\"Full data set: {recovery_full['date'].duplicated().sum()}\\n\"\n",
    "    f\"Train set: {recovery_train['date'].duplicated().sum()}\\n\"\n",
    "    f\"Test set: {recovery_test['date'].duplicated().sum()}\\n\"\n",
    ")"
   ]
  },
  {
   "cell_type": "markdown",
   "id": "5efe3b13",
   "metadata": {},
   "source": [
    "## Add target variables to test set"
   ]
  },
  {
   "cell_type": "code",
   "execution_count": 33,
   "id": "07a0fb47",
   "metadata": {},
   "outputs": [],
   "source": [
    "recovery_test = recovery_test.merge(\n",
    "    recovery_full[TARGETS + ['date']],\n",
    "    on='date',\n",
    "    how='left'\n",
    ")"
   ]
  },
  {
   "cell_type": "markdown",
   "id": "0c3d5282",
   "metadata": {},
   "source": [
    "### Verify"
   ]
  },
  {
   "cell_type": "code",
   "execution_count": 34,
   "id": "cbedb983",
   "metadata": {},
   "outputs": [
    {
     "data": {
      "text/plain": [
       "True"
      ]
     },
     "execution_count": 34,
     "metadata": {},
     "output_type": "execute_result"
    }
   ],
   "source": [
    "# Full set observations with same time stamps as Test set observations\n",
    "full_set_in_test = (\n",
    "    recovery_full[\n",
    "        recovery_full['date'].isin(recovery_test['date'])\n",
    "    ]\n",
    ")\n",
    "\n",
    "# corresponding Full set targets \n",
    "full_set_targets_in_test = full_set_in_test[TARGETS].reset_index(drop=True)\n",
    "\n",
    "# Test targets \n",
    "test_set_targets = recovery_test[TARGETS].reset_index(drop=True)\n",
    "\n",
    "# test that all values are equal between Test set targets and Full set corresponding targets\n",
    "all(full_set_targets_in_test == test_set_targets)"
   ]
  },
  {
   "cell_type": "markdown",
   "id": "55e843bf",
   "metadata": {},
   "source": [
    "## Summary"
   ]
  },
  {
   "cell_type": "markdown",
   "id": "d89d5a3f",
   "metadata": {},
   "source": [
    "* Recovery data was validated by calculating recovery from formula.\n",
    "* Redundant features were noted and excluded from the set of features to be fed to the model. This will  allow a viable prediction model (i.e. model inputs will be available when prediction is to take place) and avoid data leakage.\n",
    "* Feature dynamics were examined and time dependent variabilty noted. High inter daily variability as opposed to very low intra daily variability.\n",
    "* Missing values in the feature section were filled with feature mean and observations were either targets were unavailble were removed. In this way all missing values were eliminated.\n",
    "* No duplicated observations and timestamp duplicates were found.\n",
    "* Target variables were added to test set."
   ]
  },
  {
   "cell_type": "markdown",
   "id": "7667c03b",
   "metadata": {},
   "source": [
    "# Analysis\n",
    "\n",
    "+ Take note of how the concentrations of metals (Au, Ag, Pb) change depending on the purification stage.\n",
    "+ Compare the feed particle size distributions in the training set and in the test set. If the distributions vary significantly, the model evaluation will be incorrect.\n",
    "+ Consider the total concentrations of all substances at different stages: raw feed, rougher concentrate, and final concentrate. Do you notice any abnormal values in the total distribution? If you do, is it worth removing such values from both samples? Describe the findings and eliminate anomalies.\n"
   ]
  },
  {
   "cell_type": "markdown",
   "id": "68c37a12",
   "metadata": {},
   "source": [
    "## Feed particle distribution\n",
    "If the distributions vary significantly, the model evaluation will be incorrect.\n",
    "\n",
    "<!-- TODO:\n",
    "* plot primary cleaner input feed size distribution\n",
    "* plot\n",
    "    + titles\n",
    "    + labels\n",
    "    + legend\n",
    "    + remove grid\n",
    "    + annotations with distrbution means -->"
   ]
  },
  {
   "cell_type": "code",
   "execution_count": 35,
   "id": "4a3e3f8d",
   "metadata": {},
   "outputs": [],
   "source": [
    "particle_size_train = train_raw['rougher.input.feed_size']\n",
    "particle_size_test = test_raw['rougher.input.feed_size']\n"
   ]
  },
  {
   "cell_type": "code",
   "execution_count": 36,
   "id": "eb521a3f",
   "metadata": {},
   "outputs": [
    {
     "data": {
      "image/png": "[encoded data removed]",
      "text/plain": [
       "<Figure size 720x432 with 1 Axes>"
      ]
     },
     "metadata": {},
     "output_type": "display_data"
    }
   ],
   "source": [
    "fig, ax = plt.subplots(\n",
    "#     figsize=(8, 6)\n",
    ")\n",
    "nbins = 50\n",
    "\n",
    "particle_size_test.hist(\n",
    "    bins=nbins,\n",
    "    density=True,\n",
    "    range=(0, 200),\n",
    "    color=get_cmap(qualitative_cm, 5).colors[1],\n",
    "    grid=False,\n",
    "    ax=ax,\n",
    ")\n",
    "particle_size_train.hist(\n",
    "    bins=nbins,\n",
    "    density=True,\n",
    "    range=(0, 200),\n",
    "    color=get_cmap(qualitative_cm, 5).colors[0],\n",
    "    alpha=0.7,\n",
    "#     grid=False,\n",
    "    ax=ax,\n",
    ")\n",
    "\n",
    "# legend\n",
    "labels = ['test set', 'train set']\n",
    "handles = ax.containers\n",
    "plt.legend(\n",
    "    handles,\n",
    "    labels,\n",
    "    fontsize=12\n",
    ")\n",
    "\n",
    "# x label\n",
    "plt.xlabel(\n",
    "    'particle size',\n",
    "    size=12\n",
    ")\n",
    "\n",
    "# title\n",
    "plt.title(\n",
    "    f\"Density ditribution of feed particle size\",\n",
    "    size=15,\n",
    "    y=1.06\n",
    ");\n"
   ]
  },
  {
   "cell_type": "markdown",
   "id": "eb0b7aa0",
   "metadata": {},
   "source": [
    "* distributions of feed particle size are fairly similar in shape between train and test."
   ]
  },
  {
   "cell_type": "markdown",
   "id": "d1f415df",
   "metadata": {},
   "source": [
    "## Metal concentrations in purification stages"
   ]
  },
  {
   "cell_type": "code",
   "execution_count": 86,
   "id": "dfadbafd",
   "metadata": {},
   "outputs": [],
   "source": [
    "metals = ['au', 'ag', 'pb']\n",
    "stages = [\n",
    "    'rougher.output.concentrate',\n",
    "    'primary_cleaner.output.concentrate',\n",
    "    'final.output.concentrate'\n",
    "]"
   ]
  },
  {
   "cell_type": "code",
   "execution_count": 88,
   "id": "97a0e03a",
   "metadata": {},
   "outputs": [
    {
     "name": "stdout",
     "output_type": "stream",
     "text": [
      "\n"
     ]
    },
    {
     "data": {
      "image/png": "[encoded data removed]",
      "text/plain": [
       "<Figure size 1080x720 with 3 Axes>"
      ]
     },
     "metadata": {},
     "output_type": "display_data"
    }
   ],
   "source": [
    "print()\n",
    "figure, axes = plt.subplots(\n",
    "    nrows=3,\n",
    "    ncols=1,\n",
    "    figsize=(15, 10),\n",
    "    gridspec_kw={'hspace': 0.3},\n",
    ")\n",
    "\n",
    "# title\n",
    "figure.suptitle(\n",
    "    \"Metal concentration distribution in different stages of the purification process\",\n",
    "    size = 15,\n",
    "    y=0.98\n",
    ")\n",
    "\n",
    "for i, metal in enumerate(metals):\n",
    "    ax = axes[i]\n",
    "    for stage in stages:\n",
    "        feature = stage + '_' + metal\n",
    "        recovery_full[feature].hist(\n",
    "            bins=50,\n",
    "            label=stage,\n",
    "            alpha=0.5,\n",
    "            ax=ax,\n",
    "#             grid=False,\n",
    "        )\n",
    "    ax.set_title(metal)\n",
    "    ax.legend()"
   ]
  },
  {
   "cell_type": "markdown",
   "id": "7aa811b6",
   "metadata": {},
   "source": [
    "* Distribution of Au concentration within each stage is roughly normaly distributed but with a long left tail.\n",
    "* Some extreme left outliers exist in for all three metals in all three stages.\n",
    "* Gold concetration is clearly increased with purification progress."
   ]
  },
  {
   "cell_type": "markdown",
   "id": "6d6722d4",
   "metadata": {},
   "source": [
    "## Target distributions\n",
    "<!-- TODO:\n",
    "+ titles\n",
    "+ labels -->"
   ]
  },
  {
   "cell_type": "code",
   "execution_count": 37,
   "id": "14b57eb1",
   "metadata": {},
   "outputs": [
    {
     "data": {
      "image/png": "[encoded data removed]",
      "text/plain": [
       "<Figure size 720x432 with 1 Axes>"
      ]
     },
     "metadata": {},
     "output_type": "display_data"
    },
    {
     "data": {
      "image/png": "[encoded data removed]",
      "text/plain": [
       "<Figure size 720x432 with 1 Axes>"
      ]
     },
     "metadata": {},
     "output_type": "display_data"
    }
   ],
   "source": [
    "\n",
    "# rouhger recovery\n",
    "recovery_full['rougher.output.recovery'].hist(bins=50)\n",
    "plt.title(\n",
    "    \"Rougher recovery distribution\",\n",
    "    size=13\n",
    ")\n",
    "plt.xlabel(\n",
    "    'recovery',\n",
    "    size=11\n",
    ")\n",
    "plt.show()\n",
    "\n",
    "\n",
    "# final recovery\n",
    "recovery_full['final.output.recovery'].hist(bins=50)\n",
    "plt.title(\n",
    "    \"Final recovery distribution\",\n",
    "    size=13\n",
    ")\n",
    "plt.xlabel(\n",
    "    'recovery',\n",
    "    size=11\n",
    ")\n",
    "plt.show()\n"
   ]
  },
  {
   "cell_type": "code",
   "execution_count": 90,
   "id": "cdd1803e",
   "metadata": {},
   "outputs": [],
   "source": [
    "\n",
    "def get_outliers(data, feature):\n",
    "    \n",
    "    # get full data set outliers\n",
    "    Q3 = np.quantile(recovery_full[feature], 0.75) # top quantile\n",
    "    Q1 = np.quantile(recovery_full[feature], 0.25) # bottom quantile\n",
    "    IQR = Q3 - Q1 # inter quantile range\n",
    "\n",
    "    lower_range = Q1 - 1.5 * IQR \n",
    "    upper_range = Q3 + 1.5 * IQR\n",
    "    outlier_list = [ # list of outliers\n",
    "        x \n",
    "        for x \n",
    "        in recovery_full[feature] \n",
    "        if (x < lower_range) | (x > upper_range)\n",
    "    ]\n",
    "\n",
    "    outliers = ( # boolean mask for outliers\n",
    "        recovery_full[feature]\n",
    "        .isin(outlier_list)\n",
    "    )\n",
    "    \n",
    "    # get full data set outliers timestamp\n",
    "    outliers_timestamps = recovery_full.loc[outliers]['date']\n",
    "    \n",
    "    # boolean mask for data where timestamps correspond to full data set outliers\n",
    "    outliers_mask = data['date'].isin(outliers_timestamps)\n",
    "    \n",
    "    return outliers_mask"
   ]
  },
  {
   "cell_type": "markdown",
   "id": "3b4dfd1d",
   "metadata": {},
   "source": [
    "## remove target outliers"
   ]
  },
  {
   "cell_type": "markdown",
   "id": "250c9586",
   "metadata": {},
   "source": [
    "### Train set"
   ]
  },
  {
   "cell_type": "code",
   "execution_count": 91,
   "id": "36d143fd",
   "metadata": {},
   "outputs": [
    {
     "name": "stdout",
     "output_type": "stream",
     "text": [
      "Outliers removed: 1317 (9.31%)\n"
     ]
    }
   ],
   "source": [
    "before = recovery_train.shape[0]\n",
    "for i in range(2):\n",
    "    recovery_train = recovery_train.loc[~get_outliers(recovery_train, TARGETS[i])]\n",
    "after = recovery_train.shape[0]\n",
    "        \n",
    "\n",
    "outliers_removed = before - after\n",
    "print(\n",
    "    f\"Outliers removed: \"\n",
    "    f\"{outliers_removed} ({outliers_removed / before:.2%})\"\n",
    ")"
   ]
  },
  {
   "cell_type": "markdown",
   "id": "6f810242",
   "metadata": {},
   "source": [
    "### Full set"
   ]
  },
  {
   "cell_type": "code",
   "execution_count": 92,
   "id": "d63eaec1",
   "metadata": {},
   "outputs": [
    {
     "name": "stdout",
     "output_type": "stream",
     "text": [
      "Outliers removed: 1712 (8.81%)\n"
     ]
    }
   ],
   "source": [
    "before = recovery_full.shape[0]\n",
    "for i in range(2):\n",
    "    recovery_full = recovery_full.loc[~get_outliers(recovery_full, TARGETS[i])]\n",
    "after = recovery_full.shape[0]\n",
    "        \n",
    "\n",
    "outliers_removed = before - after\n",
    "print(\n",
    "    f\"Outliers removed: \"\n",
    "    f\"{outliers_removed} ({outliers_removed / before:.2%})\"\n",
    ")"
   ]
  },
  {
   "cell_type": "markdown",
   "id": "8898d2c9",
   "metadata": {},
   "source": [
    "## Remove outliers by metal concentration "
   ]
  },
  {
   "cell_type": "markdown",
   "id": "b5692572",
   "metadata": {},
   "source": [
    "### Train set"
   ]
  },
  {
   "cell_type": "code",
   "execution_count": 93,
   "id": "a877d142",
   "metadata": {},
   "outputs": [
    {
     "name": "stdout",
     "output_type": "stream",
     "text": [
      "Outliers removed: 1690 (13.17%)\n"
     ]
    }
   ],
   "source": [
    "before = recovery_train.shape[0]\n",
    "for metal in metals:\n",
    "    for stage in stages:\n",
    "        feature = stage + '_' + metal\n",
    "        recovery_train = recovery_train.loc[~get_outliers(recovery_train, feature)]\n",
    "after = recovery_train.shape[0]\n",
    "        \n",
    "\n",
    "outliers_removed = before - after\n",
    "print(\n",
    "    f\"Outliers removed: \"\n",
    "    f\"{outliers_removed} ({outliers_removed / before:.2%})\"\n",
    ")"
   ]
  },
  {
   "cell_type": "markdown",
   "id": "40ded255",
   "metadata": {},
   "source": [
    "### Test set "
   ]
  },
  {
   "cell_type": "code",
   "execution_count": 94,
   "id": "124400cf",
   "metadata": {},
   "outputs": [
    {
     "name": "stdout",
     "output_type": "stream",
     "text": [
      "Outliers removed: 428 (8.09%)\n"
     ]
    }
   ],
   "source": [
    "before = recovery_test.shape[0]\n",
    "for metal in metals:\n",
    "    for stage in stages:\n",
    "        feature = stage + '_' + metal\n",
    "        recovery_test = recovery_test.loc[~get_outliers(recovery_test, feature)]\n",
    "after = recovery_test.shape[0]\n",
    "        \n",
    "\n",
    "outliers_removed = before - after\n",
    "print(\n",
    "    f\"Outliers removed: \"\n",
    "    f\"{outliers_removed} ({outliers_removed / before:.2%})\"\n",
    ")\n"
   ]
  },
  {
   "cell_type": "markdown",
   "id": "0f6ecbdf",
   "metadata": {},
   "source": [
    "### Full set"
   ]
  },
  {
   "cell_type": "code",
   "execution_count": 95,
   "id": "e9854754",
   "metadata": {},
   "outputs": [
    {
     "name": "stdout",
     "output_type": "stream",
     "text": [
      "Outliers removed: 2477 (13.97%)\n"
     ]
    }
   ],
   "source": [
    "before = recovery_full.shape[0]\n",
    "for metal in metals:\n",
    "    for stage in stages:\n",
    "        feature = stage + '_' + metal\n",
    "        recovery_full = recovery_full.loc[~get_outliers(recovery_full, feature)]\n",
    "after = recovery_full.shape[0]\n",
    "        \n",
    "\n",
    "outliers_removed = before - after\n",
    "print(\n",
    "    f\"Outliers removed: \"\n",
    "    f\"{outliers_removed} ({outliers_removed / before:.2%})\"\n",
    ")"
   ]
  },
  {
   "cell_type": "markdown",
   "id": "1aa119b6",
   "metadata": {},
   "source": [
    "# Modelling\n",
    "\n",
    "+ The following formulas will be as for evaluation metrics:\n",
    "    + $sMAPE = \\frac{1}{N} \\Sigma_{i=1}^N \\frac{|y_i - \\hat{y}_i|} {\\frac{|y_i| + |\\hat{y}_i|}{2}}$\n",
    "\n",
    "    + $Final$ $sMAPE =  25\\% * sMAPE(rougher) + 75\\% * sMAPE(final)$\n",
    "    \n",
    "\n",
    "TODO: Explain the use of above formulas as metrics.\n"
   ]
  },
  {
   "cell_type": "code",
   "execution_count": 100,
   "id": "0ce2c60c",
   "metadata": {},
   "outputs": [],
   "source": [
    "state = np.random.RandomState(0)"
   ]
  },
  {
   "cell_type": "markdown",
   "id": "047ce8c7",
   "metadata": {},
   "source": [
    "## Model evaluation functions "
   ]
  },
  {
   "cell_type": "code",
   "execution_count": 101,
   "id": "99b9485f",
   "metadata": {},
   "outputs": [],
   "source": [
    "def smape(y_true, y_predicted):\n",
    "    abs_diff = np.absolute(y_true - y_predicted)\n",
    "    sum_of_targets = np.absolute(y_true) + np.absolute(y_predicted)\n",
    "    smape = (\n",
    "        (abs_diff / (sum_of_targets / 2)).sum() / len(y_true)\n",
    "    )\n",
    "    return smape\n",
    "\n",
    "def smape_final(y_true, y_predicted):\n",
    "    rougher_smape = smape(y_true[:, 0], y_predicted[:, 0])\n",
    "    final_smape = smape(y_true[:, 1], y_predicted[:, 1])\n",
    "    \n",
    "    return 0.25*rougher_smape + 0.75*final_smape"
   ]
  },
  {
   "cell_type": "markdown",
   "id": "46f1b7c3",
   "metadata": {},
   "source": [
    "## Utility functions"
   ]
  },
  {
   "cell_type": "code",
   "execution_count": 102,
   "id": "49b33a4f",
   "metadata": {},
   "outputs": [],
   "source": [
    "# perform feature  scaling on train and test features\n",
    "def scale_features(train_features, test_features):\n",
    "    '''Scale train and test features using StandardScaler'''\n",
    "    scaler = StandardScaler()\n",
    "    scaler.fit(train_features)\n",
    "\n",
    "    scaled_train = scaler.transform(train_features)\n",
    "    scaled_test = scaler.transform(test_features)\n",
    "    \n",
    "    return scaled_train, scaled_test"
   ]
  },
  {
   "cell_type": "code",
   "execution_count": 103,
   "id": "b806eb7c",
   "metadata": {},
   "outputs": [],
   "source": [
    "# get sMAPE score for a given model\n",
    "def evaluate_model_on_test(model,\n",
    "            test_features, test_target):\n",
    "    '''Evaluate a trained model using a given test set'''\n",
    "    test_predicted = model.predict(test_features)\n",
    "    smape = np.absolute(smape_final(test_target, test_predicted))\n",
    "    return smape\n"
   ]
  },
  {
   "cell_type": "code",
   "execution_count": 104,
   "id": "68c85135",
   "metadata": {},
   "outputs": [],
   "source": [
    "# find best model hyper-parameters using GridSearchCV and get sMAPE score for fine tuned model\n",
    "def fine_tune_model(\n",
    "        model, param_grid,\n",
    "        train_features, train_target):\n",
    "    '''Return a trained model with best hyperparameters using GridSearcCV'''\n",
    "    \n",
    "    gridsearch = GridSearchCV(\n",
    "        estimator=model,\n",
    "        param_grid=param_grid,\n",
    "        scoring=smape_scorer,\n",
    "        return_train_score=True,\n",
    "    )\n",
    "    fine_tuned_model = gridsearch.fit(train_features, train_target)\n",
    "    \n",
    "    return fine_tuned_model"
   ]
  },
  {
   "cell_type": "markdown",
   "id": "df2df673",
   "metadata": {},
   "source": [
    "## Pre-defined split \n",
    "Train and evaluate different models using the train\\test split provided with the project data."
   ]
  },
  {
   "cell_type": "markdown",
   "id": "3b8acf1e",
   "metadata": {},
   "source": [
    "### Convert data sets to array and print shape"
   ]
  },
  {
   "cell_type": "code",
   "execution_count": 105,
   "id": "3b7f0490",
   "metadata": {},
   "outputs": [],
   "source": [
    "X_train, X_test = (\n",
    "    recovery_train[FEATURES].to_numpy(),\n",
    "    recovery_test[FEATURES].to_numpy()\n",
    ")\n",
    "y_train, y_test = (\n",
    "    recovery_train[TARGETS].to_numpy(),\n",
    "    recovery_test[TARGETS].to_numpy()\n",
    ")"
   ]
  },
  {
   "cell_type": "code",
   "execution_count": 106,
   "id": "aaf6c953",
   "metadata": {},
   "outputs": [
    {
     "name": "stdout",
     "output_type": "stream",
     "text": [
      "Shape\n",
      "-----\n",
      "Train features: (11142, 52)\n",
      "Train target: (11142, 2)\n",
      "Test features: (4862, 52)\n",
      "Test target: (4862, 2)\n"
     ]
    }
   ],
   "source": [
    "print(\n",
    "    f\"Shape\\n\"\n",
    "    f\"-----\\n\"\n",
    "    f\"Train features: {X_train.shape}\\n\"\n",
    "    f\"Train target: {y_train.shape}\\n\"\n",
    "    f\"Test features: {X_test.shape}\\n\"\n",
    "    f\"Test target: {y_test.shape}\"\n",
    ")"
   ]
  },
  {
   "cell_type": "markdown",
   "id": "c85664f9",
   "metadata": {},
   "source": [
    "### Feature scaling\n",
    "Use `StandardScaler` to scale features. \n",
    "From `sklearn`s documentation:\n",
    "    \n",
    "    The standard score of a sample *x* is calculated as:\n",
    "\n",
    "        z = (x - u) / s\n",
    "\n",
    "    where *u* is the mean of the training samples or zero if with_mean=False, and *s* is the standard deviation of the training samples or one if with_std=False.\n"
   ]
  },
  {
   "cell_type": "code",
   "execution_count": 107,
   "id": "f3246b8f",
   "metadata": {},
   "outputs": [],
   "source": [
    "X_train, X_test = scale_features(\n",
    "    X_train,\n",
    "    X_test\n",
    ")"
   ]
  },
  {
   "cell_type": "markdown",
   "id": "3ff92610",
   "metadata": {},
   "source": [
    "### Evaluate models off the bat\n",
    "+ Simple Linear Regression (LR)\n",
    "+ Ridge (RD)\n",
    "+ Lasso (LS)\n",
    "+ ElasticNet (EN)\n",
    "+ Dummy Regressor (always predicting target mean)\n"
   ]
  },
  {
   "cell_type": "code",
   "execution_count": 108,
   "id": "cd78dcb5-1f2f-47d0-81f8-4a9a13c082e0",
   "metadata": {},
   "outputs": [],
   "source": [
    "smape_scorer = make_scorer(smape_final, greater_is_better=False)"
   ]
  },
  {
   "cell_type": "code",
   "execution_count": 109,
   "id": "8e903e9f",
   "metadata": {},
   "outputs": [],
   "source": [
    "default_models = [\n",
    "    LinearRegression(),\n",
    "    Ridge(),\n",
    "    Lasso(),\n",
    "    ElasticNet(),\n",
    "    DummyRegressor()\n",
    "]"
   ]
  },
  {
   "cell_type": "code",
   "execution_count": 110,
   "id": "84334fab",
   "metadata": {},
   "outputs": [
    {
     "name": "stdout",
     "output_type": "stream",
     "text": [
      "\n",
      "sMAPE score for default models using pre-defined split\n",
      "------------------------------------------------------\n",
      "\n",
      "LinearRegression: 7.28%\n",
      "\n",
      "Ridge: 7.28%\n",
      "\n",
      "Lasso: 7.11%\n",
      "\n",
      "ElasticNet: 6.83%\n",
      "\n",
      "DummyRegressor: 7.58%\n",
      "\n"
     ]
    }
   ],
   "source": [
    "\n",
    "print()\n",
    "print(\n",
    "    f\"sMAPE score for default models using pre-defined split\\n\"\n",
    "    f\"------------------------------------------------------\\n\"\n",
    ")\n",
    "for model in default_models:\n",
    "#     trained_model = model.fit(X_train, y_train)\n",
    "    score = cross_val_score(\n",
    "        model,\n",
    "        X_train,\n",
    "        y_train,\n",
    "        scoring=smape_scorer,\n",
    "    )\n",
    "    print(\n",
    "        f\"{str(model)[:-2]}: {np.absolute(score.mean()):.2%}\\n\"\n",
    "    )"
   ]
  },
  {
   "cell_type": "markdown",
   "id": "b5719fe9",
   "metadata": {},
   "source": [
    "### Conclusions\n",
    "+ Regularized Linear Regression models, Lasso and ElasticNet gave the best scores, outperforming the Dummy Regressor by 0.4% or more.\n",
    "+ The simple Linear Regression model and the Ridge model produced sMAPE scores only slightly better than the Dummy Regressor."
   ]
  },
  {
   "cell_type": "markdown",
   "id": "a4b63d67",
   "metadata": {},
   "source": [
    "### Fine tune selected models and evaluate on test set\n",
    "+ Lasso\n",
    "+ ElasticNet"
   ]
  },
  {
   "cell_type": "code",
   "execution_count": 111,
   "id": "1d662c06",
   "metadata": {},
   "outputs": [
    {
     "name": "stdout",
     "output_type": "stream",
     "text": [
      "Fine tuned Lasso, sMAPE score \n",
      "-----------------------------\n",
      "CV: 6.72%\n",
      "Test set: 8.68%\n",
      "\n",
      "Fine tuned ElasticNet, sMAPE score \n",
      "-----------------------------\n",
      "CV: 6.65%\n",
      "Test set: 8.64%\n",
      "\n"
     ]
    }
   ],
   "source": [
    "# Lasso param grid\n",
    "lasso_grid = {'alpha': [0.1, 0.2, 0.4, 1, 2, 4, 6, 12]}# np.geomspace(0.01, 100, 12)} \n",
    "\n",
    "# ElasticNet param grid\n",
    "elasticnet_grid = {\n",
    "    'alpha': np.geomspace(0.01, 10, 5),\n",
    "    'l1_ratio': [ 0.3, 0.4, 0.5, 0.6]\n",
    "} \n",
    "\n",
    "# Grid search and testing\n",
    "    # GridSearchCV object\n",
    "    fine_tuned_model = fine_tune_model(          \n",
    "        model,\n",
    "        lasso_grid,\n",
    "        X_train,\n",
    "        y_train,\n",
    "    )\n",
    "    \n",
    "    # fine tuned model CV score\n",
    "    smape_finetuned_cv = (                               \n",
    "        np.absolute(fine_tuned_model.best_score_)\n",
    "    )\n",
    "    \n",
    "    # fine tuned model sMAPE score on Test set\n",
    "    smape_finetuned =  evaluate_model_on_test(           \n",
    "        fine_tuned_model,\n",
    "        X_test,\n",
    "        y_test\n",
    "        \n",
    "    ) \n",
    "   \n",
    "    \n",
    "    print(\n",
    "        f\"Fine tuned {str(model)[:-2]}, sMAPE score \\n\"\n",
    "        f\"-----------------------------\\n\"\n",
    "        f\"CV: {smape_finetuned_cv:.2%}\\n\"\n",
    "        f\"Test set: {smape_finetuned:.2%}\"\n",
    "    )\n",
    "    \n",
    "    print()"
   ]
  },
  {
   "cell_type": "markdown",
   "id": "9046f43d",
   "metadata": {},
   "source": [
    "### Conclusions\n",
    "+ Both tuned Regression models slightly improved model prediction over the default models, when tested using CV. \n",
    "+ ElasticNet Regression performed slightly better than the Lasso model. "
   ]
  },
  {
   "cell_type": "markdown",
   "id": "b9f039b8",
   "metadata": {},
   "source": [
    "# Project summary\n",
    "TODO: Explicitly relate the final conclusion to the projects' goal.\n",
    "\n",
    "## Goal and description\n",
    "+ The goal of this project was to produce a model that would predict recovery rates for gold ore purfication.\n",
    "\n",
    "+ project data contained:\n",
    "    + 22716 observations\n",
    "    + 85 features\n",
    "    + 2 targets (rougher and final recovery)\n",
    "\n",
    "## Pre-Processing\n",
    "+ A pre-defined train\\test split was availble along with the raw project data.\n",
    "    + 32 of the 85 features in the full data set, did not appear in the provided test set.\n",
    "    + These features were examined and concluded to be unfit for model training as they would not be available at model application time, and were also laible to cause data leakage.\n",
    "+ Feature dynamics were examined and time dependent variabilty noted. \n",
    "+ Missing values in feature columns were filled using forward fill, in accordance with the observed low intra daily variablility. \n",
    "+ Observations were either target value was missing, were removed from data sets.\n",
    "+ A final test was performed to verify all missing values were handled.\n",
    "+ Data was checked for duplicated observations as well as duplicated timestamps and none were found.\n",
    "+ Target values were added to test set (these were not provided with the pre-defined split).\n",
    "\n",
    "## Analysis\n",
    "+ Feed particle size distribution was inspected and a similar distribution was noted between train and test sets.\n",
    "+ Metal concentrations along the purification process, and target distributions were examined.\n",
    "+ Observations with outliers, were removed based on the various metal concentrations as well as on target values.\n",
    "\n",
    "## Modeling\n",
    "+ A simple Linear regression model and three regulerized Linear Regression models were tested with default hyper-parameters using the provided Test set. \n",
    "+ A dummy model was also tested as reference.\n",
    "+ Model evaluation was performed using sMAPE score.\n",
    "+ Default Lasso and ElasticNet models produced the best sMAPE score and clearly outpreformed the dummy model.\n",
    "+ These model were fine tuned using grid search cross validation, and than tested again with the Test set.\n",
    "+ Both models improved prediction compared with the default models though not to a great extent.\n",
    "+ ElasticNet model produced slightly better results than the Lasso model.\n",
    "\n",
    "## Final Conclusion\n",
    "+ The ElasticNet model with fine tuned hyperparameters outperformed all other models, producing sMAPE error rates of 6.65% and 8.64% on CV and Test set respectively.\n",
    "\n"
   ]
  },
  {
   "cell_type": "code",
   "execution_count": null,
   "id": "ed80184e-d5c9-4ce8-af98-7acda3db2cc3",
   "metadata": {},
   "outputs": [],
   "source": []
  }
 ],
 "metadata": {
  "kernelspec": {
   "display_name": "Python 3",
   "language": "python",
   "name": "python3"
  },
  "language_info": {
   "codemirror_mode": {
    "name": "ipython",
    "version": 3
   },
   "file_extension": ".py",
   "mimetype": "text/x-python",
   "name": "python",
   "nbconvert_exporter": "python",
   "pygments_lexer": "ipython3",
   "version": "3.8.10"
  },
  "toc": {
   "base_numbering": 1,
   "nav_menu": {},
   "number_sections": true,
   "sideBar": true,
   "skip_h1_title": true,
   "title_cell": "Table of Contents",
   "title_sidebar": "Contents",
   "toc_cell": false,
   "toc_position": {},
   "toc_section_display": true,
   "toc_window_display": false
  }
 },
 "nbformat": 4,
 "nbformat_minor": 5
}
